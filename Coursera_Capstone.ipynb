{
  "nbformat": 4,
  "nbformat_minor": 0,
  "metadata": {
    "kernelspec": {
      "display_name": "Python 3.7",
      "language": "python",
      "name": "python3"
    },
    "language_info": {
      "codemirror_mode": {
        "name": "ipython",
        "version": 3
      },
      "file_extension": ".py",
      "mimetype": "text/x-python",
      "name": "python",
      "nbconvert_exporter": "python",
      "pygments_lexer": "ipython3",
      "version": "3.7.9"
    },
    "colab": {
      "name": "Coursera_Capstone.ipynb",
      "provenance": []
    }
  },
  "cells": [
    {
      "cell_type": "markdown",
      "metadata": {
        "collapsed": true,
        "id": "o1jlgrRnvJ4R"
      },
      "source": [
        "IBM Certification Project Capston"
      ]
    },
    {
      "cell_type": "code",
      "metadata": {
        "id": "SgvGBHQhvJ4S",
        "outputId": "9cae1c0d-b42f-4a57-afa2-d0391f806002",
        "colab": {
          "base_uri": "https://localhost:8080/"
        }
      },
      "source": [
        "import pandas as pd\n",
        "import numpy  as np\n",
        "print('Hello Capstone Project Course!')"
      ],
      "execution_count": 1,
      "outputs": [
        {
          "output_type": "stream",
          "text": [
            "Hello Capstone Project Course!\n"
          ],
          "name": "stdout"
        }
      ]
    },
    {
      "cell_type": "code",
      "metadata": {
        "id": "h7Q3Gbp1vJ4U",
        "outputId": "dec2ae5b-d1c1-4824-fe2e-9f225d6cfede",
        "colab": {
          "base_uri": "https://localhost:8080/"
        }
      },
      "source": [
        "from bs4 import BeautifulSoup as bs\n",
        "import urllib.request\n",
        "\n",
        "source = urllib.request.urlopen('https://en.wikipedia.org/wiki/List_of_postal_codes_of_Canada:_M').read()\n",
        "\n",
        "# Create a BeautifulSoup object\n",
        "soup = bs(source)\n",
        "#wikitable sortable jquery-tablesorter\n",
        "\n",
        "tab  = soup.find_all('table')#class_='wikitable sortable jquery-tablesorter')\n",
        "df = pd.read_html(str(tab))[0]\n",
        "df[(df['Neighbourhood'] == 'Not assigned') &(df['Borough'] != 'Not assigned')]\n",
        "df.shape"
      ],
      "execution_count": 2,
      "outputs": [
        {
          "output_type": "execute_result",
          "data": {
            "text/plain": [
              "(180, 3)"
            ]
          },
          "metadata": {
            "tags": []
          },
          "execution_count": 2
        }
      ]
    }
  ]
}